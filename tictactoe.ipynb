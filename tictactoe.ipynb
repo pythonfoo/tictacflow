{
 "cells": [
  {
   "cell_type": "code",
   "execution_count": null,
   "metadata": {},
   "outputs": [],
   "source": [
    "import numpy as np\n",
    "import tensorflow as tf\n",
    "import _pickle as pickle\n"
   ]
  },
  {
   "cell_type": "code",
   "execution_count": null,
   "metadata": {},
   "outputs": [],
   "source": [
    "# player 0, player 1\n",
    "array_player_1 = np.full((1000, 3, 3), 0, dtype=np.float32)\n",
    "array_player_2 = np.full((1000, 3, 3), 0, dtype=np.float32)\n",
    "array_player_1[0] = [[1, 0, 0], [1, 0, 1], [1, 1, 0]]\n",
    "array_player_2[0] = [[0, 1, 1], [0, 1, 0], [0, 0, 1]]\n",
    "# multi class label\n",
    "# [1, 0] player 1 wins\n",
    "# [0, 1] player 2 wins\n",
    "# [0, 0] draw\n",
    "outcome = np.full((1000, 2), 0, dtype=np.float32)\n",
    "outcome[0] = [1, 0]"
   ]
  },
  {
   "cell_type": "code",
   "execution_count": null,
   "metadata": {},
   "outputs": [],
   "source": [
    "array_player_2 "
   ]
  },
  {
   "cell_type": "code",
   "execution_count": null,
   "metadata": {},
   "outputs": [],
   "source": [
    "# tf estimator\n",
    "train_input_fn = tf.estimator.inputs.numpy_input_fn(\n",
    "    x={\"player1\": array_player_1, \"player2\": array_player_2},\n",
    "    y=outcome,\n",
    "    num_epochs=1,\n",
    "    batch_size=128,\n",
    "    shuffle=False) \n"
   ]
  },
  {
   "cell_type": "code",
   "execution_count": null,
   "metadata": {},
   "outputs": [],
   "source": [
    "def a_model_fn(features, labels, mode, params):\n",
    "    p1 = tf.reshape(features['player1'], [-1, 9])\n",
    "    p2 = tf.reshape(features['player2'], [-1, 9])\n",
    "    players = tf.concat([p1, p2], axis=1)\n",
    "    print(players.get_shape())\n",
    "    hidden = tf.layers.dense(players, 24)\n",
    "    predictions = tf.layers.dense(players, 2)\n",
    "\n",
    "    loss = tf.losses.sigmoid_cross_entropy(multi_class_labels=labels, logits=predictions)\n",
    "    # actual optimization functions\n",
    "    optimizer = tf.train.AdamOptimizer(1e-4, epsilon=1e-6)\n",
    "    train_op = optimizer.minimize(\n",
    "        loss=loss, global_step=tf.train.get_global_step())\n",
    "    eval_metric_ops = {\n",
    "        \"accuracy\": tf.metrics.accuracy(labels, predictions),\n",
    "    }\n",
    "    return tf.estimator.EstimatorSpec(\n",
    "        mode=mode,\n",
    "        loss=loss,\n",
    "        train_op=train_op,\n",
    "        eval_metric_ops=eval_metric_ops)"
   ]
  },
  {
   "cell_type": "code",
   "execution_count": null,
   "metadata": {},
   "outputs": [],
   "source": [
    "nn = tf.estimator.Estimator(model_fn=a_model_fn, params={}, model_dir=\"/tmp/tictacfow_practice\")"
   ]
  },
  {
   "cell_type": "code",
   "execution_count": null,
   "metadata": {},
   "outputs": [],
   "source": [
    "nn.train(input_fn=train_input_fn, steps=160)\n"
   ]
  },
  {
   "cell_type": "code",
   "execution_count": null,
   "metadata": {},
   "outputs": [],
   "source": [
    "# more thoughts on data formatting\n",
    "array_player_1 = np.full((1000, 3, 3), -2)\n",
    "array_player_2 = np.full((1000, 3, 3), -2)"
   ]
  },
  {
   "cell_type": "code",
   "execution_count": null,
   "metadata": {},
   "outputs": [],
   "source": [
    "for i in range(1000):\n",
    "    array_player_1[i] = [[1, 0, 0], [1, 0, 1], [1, 1, 0]]\n",
    "    array_player_2[i] = [[0, 1, 1], [0, 1, 0], [0, 0, 1]]\n"
   ]
  },
  {
   "cell_type": "code",
   "execution_count": null,
   "metadata": {},
   "outputs": [],
   "source": [
    "the_data = {'player1': array_player_1, 'player2': array_player_2, 'y': outcome}\n",
    "with open(filein, 'wb') as f:\n",
    "    preview = pickle.dump(the_data, f)"
   ]
  }
 ],
 "metadata": {
  "kernelspec": {
   "display_name": "Python 3",
   "language": "python",
   "name": "python3"
  },
  "language_info": {
   "codemirror_mode": {
    "name": "ipython",
    "version": 3
   },
   "file_extension": ".py",
   "mimetype": "text/x-python",
   "name": "python",
   "nbconvert_exporter": "python",
   "pygments_lexer": "ipython3",
   "version": "3.5.2"
  }
 },
 "nbformat": 4,
 "nbformat_minor": 2
}
