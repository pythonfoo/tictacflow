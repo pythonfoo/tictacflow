{
 "cells": [
  {
   "cell_type": "code",
   "execution_count": null,
   "metadata": {},
   "outputs": [],
   "source": [
    "import numpy as np\n",
    "import tensorflow as tf\n",
    "import _pickle as pickle\n"
   ]
  },
  {
   "cell_type": "code",
   "execution_count": null,
   "metadata": {},
   "outputs": [],
   "source": [
    "# player 0, player 1\n",
    "player1 = np.array([[[1, 0, 0], [1, 0, 1], [1, 1, 0]]])\n",
    "player2 = np.array([[[0, 1, 1], [0, 1, 0], [0, 0, 1]]])\n",
    "# multi class label\n",
    "# [1, 0] player 1 wins\n",
    "# [0, 1] player 2 wins\n",
    "# [0, 0] draw\n",
    "outcome = np.array([[1, 0]])"
   ]
  },
  {
   "cell_type": "code",
   "execution_count": null,
   "metadata": {},
   "outputs": [],
   "source": [
    "player2"
   ]
  },
  {
   "cell_type": "code",
   "execution_count": null,
   "metadata": {},
   "outputs": [],
   "source": [
    "# tf estimator\n",
    "train_input_fn = tf.estimator.inputs.numpy_input_fn(\n",
    "    x={\"player1\": player1, \"player2\": player2},\n",
    "    y=outcome,\n",
    "    num_epochs=1,\n",
    "    shuffle=True) \n"
   ]
  },
  {
   "cell_type": "code",
   "execution_count": null,
   "metadata": {},
   "outputs": [],
   "source": [
    "train_input_fn()"
   ]
  },
  {
   "cell_type": "code",
   "execution_count": null,
   "metadata": {},
   "outputs": [],
   "source": [
    "sess = tf.InteractiveSession()"
   ]
  },
  {
   "cell_type": "code",
   "execution_count": null,
   "metadata": {},
   "outputs": [],
   "source": [
    "x, y = train_input_fn()\n",
    "tf.global_variables_initializer()"
   ]
  },
  {
   "cell_type": "code",
   "execution_count": null,
   "metadata": {},
   "outputs": [],
   "source": [
    "#x_vals = sess.run(x)"
   ]
  },
  {
   "cell_type": "code",
   "execution_count": null,
   "metadata": {},
   "outputs": [],
   "source": [
    "array_player_1 = np.full((1000, 3, 3), -2)\n",
    "array_player_2 = np.full((1000, 3, 3), -2)"
   ]
  },
  {
   "cell_type": "code",
   "execution_count": null,
   "metadata": {},
   "outputs": [],
   "source": [
    "for i in range(1000):\n",
    "    array_player_1[i] = [[1, 0, 0], [1, 0, 1], [1, 1, 0]]\n",
    "    array_player_2[i] = [[0, 1, 1], [0, 1, 0], [0, 0, 1]]\n"
   ]
  },
  {
   "cell_type": "code",
   "execution_count": null,
   "metadata": {},
   "outputs": [],
   "source": [
    "the_data = {'player1': array_player_1, 'player2': array_player_2, 'y': outcome}\n",
    "with open(filein, 'wb') as f:\n",
    "    preview = pickle.dump(the_data, f)"
   ]
  }
 ],
 "metadata": {
  "kernelspec": {
   "display_name": "Python 3",
   "language": "python",
   "name": "python3"
  },
  "language_info": {
   "codemirror_mode": {
    "name": "ipython",
    "version": 3
   },
   "file_extension": ".py",
   "mimetype": "text/x-python",
   "name": "python",
   "nbconvert_exporter": "python",
   "pygments_lexer": "ipython3",
   "version": "3.5.2"
  }
 },
 "nbformat": 4,
 "nbformat_minor": 2
}
